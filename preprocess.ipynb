{
 "cells": [
  {
   "cell_type": "markdown",
   "id": "d41a147b",
   "metadata": {},
   "source": [
    "1. 어떤 데이터를 사용하지?\n",
    "2. 임베딩 모델, 챗 모델은 뭘로 쓸지?"
   ]
  },
  {
   "cell_type": "code",
   "execution_count": 1,
   "id": "f17de039",
   "metadata": {},
   "outputs": [
    {
     "name": "stdout",
     "output_type": "stream",
     "text": [
      "코드 돌린 날짜: 2025-05-20 15:24:45\n"
     ]
    }
   ],
   "source": [
    "from datetime import datetime\n",
    "formatted_date = datetime.today().strftime(\"%Y-%m-%d %H:%M:%S\")\n",
    "print(\"코드 돌린 날짜:\", formatted_date)"
   ]
  },
  {
   "cell_type": "code",
   "execution_count": 6,
   "id": "94eb53af",
   "metadata": {},
   "outputs": [],
   "source": [
    "import os\n",
    "from dotenv import load_dotenv\n",
    "\n",
    "load_dotenv()\n",
    "\n",
    "OPENAI_API_KEY = os.getenv('OPENAI_API_KEY')"
   ]
  },
  {
   "cell_type": "markdown",
   "id": "04a0754f",
   "metadata": {},
   "source": [
    "## Load Data"
   ]
  },
  {
   "cell_type": "code",
   "execution_count": 3,
   "id": "4b2fb969",
   "metadata": {},
   "outputs": [],
   "source": [
    "FILE_PATH = \"data/법제소식_7월호_05_최신입법동향.pdf\""
   ]
  },
  {
   "cell_type": "markdown",
   "id": "241622c3",
   "metadata": {},
   "source": [
    "### PDFPlumber"
   ]
  },
  {
   "cell_type": "code",
   "execution_count": 4,
   "id": "d641ba61",
   "metadata": {},
   "outputs": [
    {
     "name": "stdout",
     "output_type": "stream",
     "text": [
      "Legislation Newsletter\n",
      "최신 입법 트렌드\n",
      "■ 머리말\n",
      "인공지능(AI) 관련 국내외 법제 동향\n",
      "● 2022년 말 챗GPT 등장 이후 생성형 AI1)기술 발전이 급격하게 진행되고 있고, 리걸테크, AI챗봇,\n",
      "AI헬스케어, AI에듀테크 등 인공지능 기술에 기반한 다양한 서비스들이 하나 둘 등장하며 인공\n",
      "지능이 우리의 삶에 깊이 스며들고 있다. 언론에서는 인공지능에 기반한 새로운 서비스들이 연일\n",
      "글. 법제처 미래법제혁신기획단 등장할 것을 예고하고 있고, 기존 생성형AI(GPT-3.5)는 인공지능에게 텍스트(또는 음성)의 단일\n",
      "형태로 지시를 수행하게 하였으나, 최근 공개된 GPT-4o(오픈AI사)와 아스트라(구글) 등은\n",
      "텍스트뿐만 아니라, 음성, 이미지 등 다양한 소스로부터 데이터를 수집·처리하여 멀티모달\n",
      "(multi-modal)2)로 실시간 인간의 감정을 분석해 반응하는 등 범용인공지능(AGI; Artificial\n",
      "General Intelligence)3) 시대의 도래가 멀\n"
     ]
    }
   ],
   "source": [
    "from langchain_community.document_loaders import PDFPlumberLoader\n",
    "\n",
    "# PDF 문서 로더 인스턴스 생성\n",
    "loader = PDFPlumberLoader(FILE_PATH)\n",
    "\n",
    "# 문서 로딩\n",
    "docs = loader.load()\n",
    "\n",
    "# 첫 번째 문서 데이터 접근\n",
    "print(docs[0].page_content[:500])"
   ]
  },
  {
   "cell_type": "markdown",
   "id": "ac99d6e0",
   "metadata": {},
   "source": [
    "### LlamaParser\n",
    "\n",
    "* 참고자료: https://wikidocs.net/253718"
   ]
  },
  {
   "cell_type": "code",
   "execution_count": null,
   "id": "d41ece9d",
   "metadata": {},
   "outputs": [],
   "source": []
  },
  {
   "cell_type": "code",
   "execution_count": null,
   "id": "6243dbb4",
   "metadata": {},
   "outputs": [],
   "source": []
  },
  {
   "cell_type": "code",
   "execution_count": null,
   "id": "f665ff0e",
   "metadata": {},
   "outputs": [],
   "source": []
  },
  {
   "cell_type": "markdown",
   "id": "d6da8c50",
   "metadata": {},
   "source": [
    "## Vector Database\n",
    "\n",
    "* ChromaDB"
   ]
  },
  {
   "cell_type": "code",
   "execution_count": null,
   "id": "53749b5f",
   "metadata": {},
   "outputs": [
    {
     "data": {
      "text/plain": [
       "{'ids': [],\n",
       " 'embeddings': array([], dtype=float64),\n",
       " 'documents': [],\n",
       " 'uris': None,\n",
       " 'data': None,\n",
       " 'metadatas': [],\n",
       " 'included': [<IncludeEnum.embeddings: 'embeddings'>,\n",
       "  <IncludeEnum.documents: 'documents'>,\n",
       "  <IncludeEnum.metadatas: 'metadatas'>]}"
      ]
     },
     "execution_count": 5,
     "metadata": {},
     "output_type": "execute_result"
    }
   ],
   "source": [
    "## 컬렉션 생성/연결하기\n",
    "\n",
    "import chromadb\n",
    "client = chromadb.PersistentClient('chroma/')\n",
    "collection = client.get_or_create_collection(name=\"dataset\")\n",
    "collection.peek()"
   ]
  },
  {
   "cell_type": "code",
   "execution_count": 3,
   "id": "110cd2b4",
   "metadata": {},
   "outputs": [
    {
     "data": {
      "text/plain": [
       "[Collection(name=dataset)]"
      ]
     },
     "execution_count": 3,
     "metadata": {},
     "output_type": "execute_result"
    }
   ],
   "source": [
    "client.list_collections()"
   ]
  },
  {
   "cell_type": "code",
   "execution_count": 7,
   "id": "d992ab0f",
   "metadata": {},
   "outputs": [],
   "source": [
    "import uuid\n",
    "from tqdm import tqdm\n",
    "from langchain.text_splitter import RecursiveCharacterTextSplitter\n",
    "from chromadb.utils import embedding_functions\n",
    "\n",
    "def insert(content, collection_name):\n",
    "    openai_ef = embedding_functions.OpenAIEmbeddingFunction(\n",
    "                api_key = OPENAI_API_KEY,\n",
    "                model_name=\"text-embedding-3-large\" ## text-embedding-ada-002\n",
    "            )\n",
    "    collection = client.get_collection(name=collection_name, embedding_function=openai_ef)\n",
    "\n",
    "    text_splitter = RecursiveCharacterTextSplitter(chunk_size=300, chunk_overlap=50)\n",
    "    docs = text_splitter.split_documents(content)\n",
    "\n",
    "    for doc in tqdm(docs):\n",
    "        uuid_val = uuid.uuid1()\n",
    "        # print(\"Inserted documents for \", uuid_val)\n",
    "        collection.add(ids=[str(uuid_val)], documents=doc.page_content, metadatas = doc.metadata)"
   ]
  },
  {
   "cell_type": "code",
   "execution_count": 9,
   "id": "7d7054bc",
   "metadata": {},
   "outputs": [
    {
     "name": "stderr",
     "output_type": "stream",
     "text": [
      "100%|██████████| 105/105 [01:18<00:00,  1.34it/s]\n"
     ]
    }
   ],
   "source": [
    "insert(docs, 'dataset')"
   ]
  },
  {
   "cell_type": "code",
   "execution_count": null,
   "id": "f4a290bd",
   "metadata": {},
   "outputs": [
    {
     "data": {
      "text/plain": [
       "105"
      ]
     },
     "execution_count": 11,
     "metadata": {},
     "output_type": "execute_result"
    }
   ],
   "source": [
    "# 저장된 chunk 개수 확인\n",
    "collection.count()"
   ]
  },
  {
   "cell_type": "code",
   "execution_count": null,
   "id": "2ddd5dc8",
   "metadata": {},
   "outputs": [
    {
     "data": {
      "text/plain": [
       "{'ids': ['673006b6-3543-11f0-8c1d-ae08445dcffc',\n",
       "  '67c968ec-3543-11f0-8c1d-ae08445dcffc',\n",
       "  '6812efc6-3543-11f0-8c1d-ae08445dcffc',\n",
       "  '687b2d34-3543-11f0-8c1d-ae08445dcffc',\n",
       "  '6911b9f2-3543-11f0-8c1d-ae08445dcffc',\n",
       "  '698b8f5c-3543-11f0-8c1d-ae08445dcffc',\n",
       "  '6a17f974-3543-11f0-8c1d-ae08445dcffc',\n",
       "  '6aada42e-3543-11f0-8c1d-ae08445dcffc',\n",
       "  '6b48d34a-3543-11f0-8c1d-ae08445dcffc',\n",
       "  '6be691e8-3543-11f0-8c1d-ae08445dcffc'],\n",
       " 'embeddings': array([[ 0.00460662, -0.0625558 , -0.0140816 , ..., -0.00034537,\n",
       "         -0.02328175,  0.01535104],\n",
       "        [ 0.01115845, -0.04634257, -0.02166876, ..., -0.0089194 ,\n",
       "         -0.00816077, -0.01347116],\n",
       "        [ 0.01399807, -0.02853678, -0.00617631, ..., -0.0011408 ,\n",
       "         -0.01105976,  0.00669933],\n",
       "        ...,\n",
       "        [-0.00189815, -0.0360109 ,  0.00129869, ..., -0.01440436,\n",
       "          0.01026719, -0.01089068],\n",
       "        [ 0.00460921, -0.01506186, -0.00549938, ...,  0.0114575 ,\n",
       "          0.01661282,  0.00489592],\n",
       "        [-0.01224026, -0.02425478, -0.00185454, ..., -0.01417161,\n",
       "         -0.00028355, -0.00300049]]),\n",
       " 'documents': ['Legislation Newsletter\\n최신 입법 트렌드\\n■ 머리말\\n인공지능(AI) 관련 국내외 법제 동향\\n● 2022년 말 챗GPT 등장 이후 생성형 AI1)기술 발전이 급격하게 진행되고 있고, 리걸테크, AI챗봇,\\nAI헬스케어, AI에듀테크 등 인공지능 기술에 기반한 다양한 서비스들이 하나 둘 등장하며 인공\\n지능이 우리의 삶에 깊이 스며들고 있다. 언론에서는 인공지능에 기반한 새로운 서비스들이 연일',\n",
       "  '글. 법제처 미래법제혁신기획단 등장할 것을 예고하고 있고, 기존 생성형AI(GPT-3.5)는 인공지능에게 텍스트(또는 음성)의 단일\\n형태로 지시를 수행하게 하였으나, 최근 공개된 GPT-4o(오픈AI사)와 아스트라(구글) 등은\\n텍스트뿐만 아니라, 음성, 이미지 등 다양한 소스로부터 데이터를 수집·처리하여 멀티모달\\n(multi-modal)2)로 실시간 인간의 감정을 분석해 반응하는 등 범용인공지능(AGI; Artificial\\nGeneral Intelligence)3) 시대의 도래가 멀지 않았음을 실감케 하고 있다.',\n",
       "  '● 이러한 인공지능 기술의 급격한 발달에 대응하여 인공지능을 규범적으로 규율하려는 움직임이\\n전 세계에서 활발하게 전개되고 있다. 유럽연합(EU)은 인공지능 기술이 시민의 안전과 권리를\\n보호하는 방식으로 사용되는 것을 보장할 수 있도록 인공지능의 규제에 초점을 맞춘 「인공지능법\\n(Artificial Intelligence Act)」을 제정하였다. 미국은 AI산업의 선두주자로서 「미국인공지능진흥법\\n(Advancing American AI Act)」 제정, 바이든 행정부의 행정명령 등을 통해 인공지능 주도권을',\n",
       "  '잡기 위한 노력을 진행하고 있다.\\n● 우리나라에서도 2019년 「인공지능 국가전략」을 수립(2019. 12. 17.)한 이후, 2024년 5월 과학기술\\n정보통신부(이하 ‘과기부’)와 외교부가 ‘인공지능(AI) 서울 정상회의(5. 21. ~ 22.)’와 ‘AI 글로벌 포럼\\n(5. 22.)’을 서울에서 개최하여 ‘안전’, ‘혁신’, ‘포용’이라는 AI 거버넌스 3대 원칙을 국제사회에\\n제시하는 등 AI와 관련하여 국제적 주도권을 잃지 않기 위한 노력을 계속하고 있다.',\n",
       "  '제시하는 등 AI와 관련하여 국제적 주도권을 잃지 않기 위한 노력을 계속하고 있다.\\n● 이 페이퍼에서는 향후 AI 관련 입법 및 정책에 참고할 수 있도록 EU와 미국, 그리고 그 밖의 국가들의\\n인공지능에 관한 입법 관련 대응 현황을 살펴보고, 우리나라의 정책방향 및 입법 동향에 대한 내용을\\n정리하였다.\\n1) 기존 데이터와 비교 학습을 통해 새로운 창작물을 탄생시키는 인공지능을 뜻함(출처 : 네이버 어학사전).\\n2) 텍스트, 이미지, 음성, 영상 등 다양한 데이터 양식을 함께 처리하는 것(출처 : 네이버(한경 경제용어사전)).',\n",
       "  '3) 특정 문제만을 해결하는 좁은 인공지능이 아닌, 사람과 같은 지능을 구현하는 인공지능(출처 : 네이버 어학사전).\\nJuly 2024 28 | 29',\n",
       "  'Legislation Newsletter\\n최근 입법 트렌드\\n■ 해외입법사례 ● 그리고 2023년 10월 30일, 바이든 정부는 「안전하고 보안이 보장되며 신뢰할 수 있는 인공지능의\\n개발과 사용(Safe, Secure, and Trustworthy Development and Use of Artificial Intelligence)에\\n● 최근 미국과 유럽연합(EU) 등 세계 각국은 AI와 관련된 글로벌 표준에 자국의 입장을 더 많이 반영 관한 행정명령(제14110호)7)」을 발령하였는데, 이 행정명령에서는 인공지능이 엄청난 잠재력과',\n",
       "  '하기 위하여 경쟁적으로 AI 규범 정립에 나서면서 국제사회의 AI규범 관련 주도권 경쟁이 본격화\\n위험을 동시에 내재하고 있어, 인공지능을 선의의 목적으로 활용하고 그에 따른 다양한 이점을\\n되고 있다.4)\\n실현하기 위해서는 인공지능 활용에 따른 위험을 완화할 필요가 있으며, 이를 위해 정부, 민간,\\n학계와 시민사회 전체의 노력이 필요하다고 선언하였다. 그리고 인공지능 개발·사용에서 지켜야\\n▶ 미국 행정명령과 인공지능법 할 행정부의 8가지 원칙과 우선순위를 규정하고, 연방기관이 참여하여야 할 100개 이상의 특정',\n",
       "  '● 미국에서는 2021년 1월 1일 국가 인공지능 계획수립 및 시행을 담당할 기구(과학기술정책실 소속의 조치에 대해 규정하였다. 그리고 행정명령 이행을 위해서 AI 관련 정책 입안, 적시 이행, 연방정부의\\n국가인공지능계획사무국)와 위원회(국가인공지능자문위원회)를 설립하는 내용의 「2020 국가인공\\n활동 조정 기능을 하게 되는 백악관AI위원회를 대통령실 내에 설립하도록 하였다.\\n지능계획법(National Artificial Intelligence Initiative Act of 2020)」을 제정ㆍ공포하였는데, 이 법',\n",
       "  '【행정명령 14110호에 규정된 AI 정책 8원칙과 주요 조치사항】\\n에서는 인공지능의 개념을 ‘인간이 정한 일련의 목표를 위해 실제 또는 가상 환경에 영향을 미치는\\n원칙(Sec. 2.) 주요 조치사항(Sec. 4.~11.)\\n예측, 권고 또는 결정을 할 수 있는 기계 기반의 시스템’으로 정의하였다.\\n- 2022년 10월 17일에는 미 연방정부 행정기관 직원5) 들의 지식과 역량을 향상시킬 목적으로 10년간 AI 기술의 안전 및 보안(Safety and Security)의 보장(Sec. 4.)'],\n",
       " 'uris': None,\n",
       " 'data': None,\n",
       " 'metadatas': [{'CreationDate': \"D:20240711071402Z00'00'\",\n",
       "   'Creator': 'Adobe InDesign 15.1 (Macintosh)',\n",
       "   'ModDate': \"D:20240711071402Z00'00'\",\n",
       "   'Producer': 'Mac OS X 10.13.6 Quartz PDFContext',\n",
       "   'file_path': 'data/법제소식_7월호_05_최신입법동향.pdf',\n",
       "   'page': 0,\n",
       "   'source': 'data/법제소식_7월호_05_최신입법동향.pdf',\n",
       "   'total_pages': 9},\n",
       "  {'CreationDate': \"D:20240711071402Z00'00'\",\n",
       "   'Creator': 'Adobe InDesign 15.1 (Macintosh)',\n",
       "   'ModDate': \"D:20240711071402Z00'00'\",\n",
       "   'Producer': 'Mac OS X 10.13.6 Quartz PDFContext',\n",
       "   'file_path': 'data/법제소식_7월호_05_최신입법동향.pdf',\n",
       "   'page': 0,\n",
       "   'source': 'data/법제소식_7월호_05_최신입법동향.pdf',\n",
       "   'total_pages': 9},\n",
       "  {'CreationDate': \"D:20240711071402Z00'00'\",\n",
       "   'Creator': 'Adobe InDesign 15.1 (Macintosh)',\n",
       "   'ModDate': \"D:20240711071402Z00'00'\",\n",
       "   'Producer': 'Mac OS X 10.13.6 Quartz PDFContext',\n",
       "   'file_path': 'data/법제소식_7월호_05_최신입법동향.pdf',\n",
       "   'page': 0,\n",
       "   'source': 'data/법제소식_7월호_05_최신입법동향.pdf',\n",
       "   'total_pages': 9},\n",
       "  {'CreationDate': \"D:20240711071402Z00'00'\",\n",
       "   'Creator': 'Adobe InDesign 15.1 (Macintosh)',\n",
       "   'ModDate': \"D:20240711071402Z00'00'\",\n",
       "   'Producer': 'Mac OS X 10.13.6 Quartz PDFContext',\n",
       "   'file_path': 'data/법제소식_7월호_05_최신입법동향.pdf',\n",
       "   'page': 0,\n",
       "   'source': 'data/법제소식_7월호_05_최신입법동향.pdf',\n",
       "   'total_pages': 9},\n",
       "  {'CreationDate': \"D:20240711071402Z00'00'\",\n",
       "   'Creator': 'Adobe InDesign 15.1 (Macintosh)',\n",
       "   'ModDate': \"D:20240711071402Z00'00'\",\n",
       "   'Producer': 'Mac OS X 10.13.6 Quartz PDFContext',\n",
       "   'file_path': 'data/법제소식_7월호_05_최신입법동향.pdf',\n",
       "   'page': 0,\n",
       "   'source': 'data/법제소식_7월호_05_최신입법동향.pdf',\n",
       "   'total_pages': 9},\n",
       "  {'CreationDate': \"D:20240711071402Z00'00'\",\n",
       "   'Creator': 'Adobe InDesign 15.1 (Macintosh)',\n",
       "   'ModDate': \"D:20240711071402Z00'00'\",\n",
       "   'Producer': 'Mac OS X 10.13.6 Quartz PDFContext',\n",
       "   'file_path': 'data/법제소식_7월호_05_최신입법동향.pdf',\n",
       "   'page': 0,\n",
       "   'source': 'data/법제소식_7월호_05_최신입법동향.pdf',\n",
       "   'total_pages': 9},\n",
       "  {'CreationDate': \"D:20240711071402Z00'00'\",\n",
       "   'Creator': 'Adobe InDesign 15.1 (Macintosh)',\n",
       "   'ModDate': \"D:20240711071402Z00'00'\",\n",
       "   'Producer': 'Mac OS X 10.13.6 Quartz PDFContext',\n",
       "   'file_path': 'data/법제소식_7월호_05_최신입법동향.pdf',\n",
       "   'page': 1,\n",
       "   'source': 'data/법제소식_7월호_05_최신입법동향.pdf',\n",
       "   'total_pages': 9},\n",
       "  {'CreationDate': \"D:20240711071402Z00'00'\",\n",
       "   'Creator': 'Adobe InDesign 15.1 (Macintosh)',\n",
       "   'ModDate': \"D:20240711071402Z00'00'\",\n",
       "   'Producer': 'Mac OS X 10.13.6 Quartz PDFContext',\n",
       "   'file_path': 'data/법제소식_7월호_05_최신입법동향.pdf',\n",
       "   'page': 1,\n",
       "   'source': 'data/법제소식_7월호_05_최신입법동향.pdf',\n",
       "   'total_pages': 9},\n",
       "  {'CreationDate': \"D:20240711071402Z00'00'\",\n",
       "   'Creator': 'Adobe InDesign 15.1 (Macintosh)',\n",
       "   'ModDate': \"D:20240711071402Z00'00'\",\n",
       "   'Producer': 'Mac OS X 10.13.6 Quartz PDFContext',\n",
       "   'file_path': 'data/법제소식_7월호_05_최신입법동향.pdf',\n",
       "   'page': 1,\n",
       "   'source': 'data/법제소식_7월호_05_최신입법동향.pdf',\n",
       "   'total_pages': 9},\n",
       "  {'CreationDate': \"D:20240711071402Z00'00'\",\n",
       "   'Creator': 'Adobe InDesign 15.1 (Macintosh)',\n",
       "   'ModDate': \"D:20240711071402Z00'00'\",\n",
       "   'Producer': 'Mac OS X 10.13.6 Quartz PDFContext',\n",
       "   'file_path': 'data/법제소식_7월호_05_최신입법동향.pdf',\n",
       "   'page': 1,\n",
       "   'source': 'data/법제소식_7월호_05_최신입법동향.pdf',\n",
       "   'total_pages': 9}],\n",
       " 'included': [<IncludeEnum.embeddings: 'embeddings'>,\n",
       "  <IncludeEnum.documents: 'documents'>,\n",
       "  <IncludeEnum.metadatas: 'metadatas'>]}"
      ]
     },
     "execution_count": 10,
     "metadata": {},
     "output_type": "execute_result"
    }
   ],
   "source": [
    "# sample 10개만 확인하기\n",
    "collection.peek()"
   ]
  },
  {
   "cell_type": "markdown",
   "id": "ec956153",
   "metadata": {},
   "source": [
    "## Retrieve"
   ]
  },
  {
   "cell_type": "code",
   "execution_count": 1,
   "id": "086f3ba0",
   "metadata": {},
   "outputs": [],
   "source": [
    "import chromadb\n",
    "from langchain_community.vectorstores import Chroma\n",
    "from langchain_openai import OpenAIEmbeddings\n",
    "\n",
    "client = chromadb.PersistentClient('chroma/')\n",
    "embedding = OpenAIEmbeddings(model='text-embedding-3-large')  \n",
    "vectorstore = Chroma(client=client, collection_name=\"dataset\", embedding_function=embedding)"
   ]
  },
  {
   "cell_type": "code",
   "execution_count": 2,
   "id": "3226bf16",
   "metadata": {},
   "outputs": [
    {
     "data": {
      "text/plain": [
       "[Document(metadata={'CreationDate': \"D:20240711071402Z00'00'\", 'Creator': 'Adobe InDesign 15.1 (Macintosh)', 'ModDate': \"D:20240711071402Z00'00'\", 'Producer': 'Mac OS X 10.13.6 Quartz PDFContext', 'file_path': 'data/법제소식_7월호_05_최신입법동향.pdf', 'page': 1, 'source': 'data/법제소식_7월호_05_최신입법동향.pdf', 'total_pages': 9}, page_content='Legislation Newsletter\\n최근 입법 트렌드\\n■ 해외입법사례 ● 그리고 2023년 10월 30일, 바이든 정부는 「안전하고 보안이 보장되며 신뢰할 수 있는 인공지능의\\n개발과 사용(Safe, Secure, and Trustworthy Development and Use of Artificial Intelligence)에\\n● 최근 미국과 유럽연합(EU) 등 세계 각국은 AI와 관련된 글로벌 표준에 자국의 입장을 더 많이 반영 관한 행정명령(제14110호)7)」을 발령하였는데, 이 행정명령에서는 인공지능이 엄청난 잠재력과'),\n",
       " Document(metadata={'CreationDate': \"D:20240711071402Z00'00'\", 'Creator': 'Adobe InDesign 15.1 (Macintosh)', 'ModDate': \"D:20240711071402Z00'00'\", 'Producer': 'Mac OS X 10.13.6 Quartz PDFContext', 'file_path': 'data/법제소식_7월호_05_최신입법동향.pdf', 'page': 3, 'source': 'data/법제소식_7월호_05_최신입법동향.pdf', 'total_pages': 9}, page_content='Legislation Newsletter\\n최근 입법 트렌드\\n구분 인터넷 또는 CCTV 영상에서 얼굴 이미지를 무작위적인 방식으로 스크래핑하여 얼굴인식 데이터 - 입학 결정이나 할당에 사용되는 AI시스템\\n안면 인식 데이터베이스\\n베이스를 생성하거나 확장하는 AI시스템은 금지 - 학습 결과 평가에 사용되는 AI시스템\\n교육 및 직업훈련\\n- 교육 수준 평가 목적으로 사용되는 AI시스템'),\n",
       " Document(metadata={'CreationDate': \"D:20240711071402Z00'00'\", 'Creator': 'Adobe InDesign 15.1 (Macintosh)', 'ModDate': \"D:20240711071402Z00'00'\", 'Producer': 'Mac OS X 10.13.6 Quartz PDFContext', 'file_path': 'data/법제소식_7월호_05_최신입법동향.pdf', 'page': 0, 'source': 'data/법제소식_7월호_05_최신입법동향.pdf', 'total_pages': 9}, page_content='● 이러한 인공지능 기술의 급격한 발달에 대응하여 인공지능을 규범적으로 규율하려는 움직임이\\n전 세계에서 활발하게 전개되고 있다. 유럽연합(EU)은 인공지능 기술이 시민의 안전과 권리를\\n보호하는 방식으로 사용되는 것을 보장할 수 있도록 인공지능의 규제에 초점을 맞춘 「인공지능법\\n(Artificial Intelligence Act)」을 제정하였다. 미국은 AI산업의 선두주자로서 「미국인공지능진흥법\\n(Advancing American AI Act)」 제정, 바이든 행정부의 행정명령 등을 통해 인공지능 주도권을'),\n",
       " Document(metadata={'CreationDate': \"D:20240711071402Z00'00'\", 'Creator': 'Adobe InDesign 15.1 (Macintosh)', 'ModDate': \"D:20240711071402Z00'00'\", 'Producer': 'Mac OS X 10.13.6 Quartz PDFContext', 'file_path': 'data/법제소식_7월호_05_최신입법동향.pdf', 'page': 0, 'source': 'data/법제소식_7월호_05_최신입법동향.pdf', 'total_pages': 9}, page_content='Legislation Newsletter\\n최신 입법 트렌드\\n■ 머리말\\n인공지능(AI) 관련 국내외 법제 동향\\n● 2022년 말 챗GPT 등장 이후 생성형 AI1)기술 발전이 급격하게 진행되고 있고, 리걸테크, AI챗봇,\\nAI헬스케어, AI에듀테크 등 인공지능 기술에 기반한 다양한 서비스들이 하나 둘 등장하며 인공\\n지능이 우리의 삶에 깊이 스며들고 있다. 언론에서는 인공지능에 기반한 새로운 서비스들이 연일')]"
      ]
     },
     "execution_count": 2,
     "metadata": {},
     "output_type": "execute_result"
    }
   ],
   "source": [
    "# 방법1\n",
    "input = \"인공지능과 관련된 해외의 입법 사례를 정리해줘\"\n",
    "vectorstore.similarity_search(input)"
   ]
  },
  {
   "cell_type": "code",
   "execution_count": 42,
   "id": "28a06b77",
   "metadata": {},
   "outputs": [
    {
     "data": {
      "text/plain": [
       "[(Document(metadata={'CreationDate': \"D:20240711071402Z00'00'\", 'Creator': 'Adobe InDesign 15.1 (Macintosh)', 'ModDate': \"D:20240711071402Z00'00'\", 'Producer': 'Mac OS X 10.13.6 Quartz PDFContext', 'file_path': 'data/법제소식_7월호_05_최신입법동향.pdf', 'page': 1, 'source': 'data/법제소식_7월호_05_최신입법동향.pdf', 'total_pages': 9}, page_content='Legislation Newsletter\\n최근 입법 트렌드\\n■ 해외입법사례 ● 그리고 2023년 10월 30일, 바이든 정부는 「안전하고 보안이 보장되며 신뢰할 수 있는 인공지능의\\n개발과 사용(Safe, Secure, and Trustworthy Development and Use of Artificial Intelligence)에\\n● 최근 미국과 유럽연합(EU) 등 세계 각국은 AI와 관련된 글로벌 표준에 자국의 입장을 더 많이 반영 관한 행정명령(제14110호)7)」을 발령하였는데, 이 행정명령에서는 인공지능이 엄청난 잠재력과'),\n",
       "  0.9097715020179749),\n",
       " (Document(metadata={'CreationDate': \"D:20240711071402Z00'00'\", 'Creator': 'Adobe InDesign 15.1 (Macintosh)', 'ModDate': \"D:20240711071402Z00'00'\", 'Producer': 'Mac OS X 10.13.6 Quartz PDFContext', 'file_path': 'data/법제소식_7월호_05_최신입법동향.pdf', 'page': 3, 'source': 'data/법제소식_7월호_05_최신입법동향.pdf', 'total_pages': 9}, page_content='Legislation Newsletter\\n최근 입법 트렌드\\n구분 인터넷 또는 CCTV 영상에서 얼굴 이미지를 무작위적인 방식으로 스크래핑하여 얼굴인식 데이터 - 입학 결정이나 할당에 사용되는 AI시스템\\n안면 인식 데이터베이스\\n베이스를 생성하거나 확장하는 AI시스템은 금지 - 학습 결과 평가에 사용되는 AI시스템\\n교육 및 직업훈련\\n- 교육 수준 평가 목적으로 사용되는 AI시스템'),\n",
       "  0.9961075782775879),\n",
       " (Document(metadata={'CreationDate': \"D:20240711071402Z00'00'\", 'Creator': 'Adobe InDesign 15.1 (Macintosh)', 'ModDate': \"D:20240711071402Z00'00'\", 'Producer': 'Mac OS X 10.13.6 Quartz PDFContext', 'file_path': 'data/법제소식_7월호_05_최신입법동향.pdf', 'page': 0, 'source': 'data/법제소식_7월호_05_최신입법동향.pdf', 'total_pages': 9}, page_content='● 이러한 인공지능 기술의 급격한 발달에 대응하여 인공지능을 규범적으로 규율하려는 움직임이\\n전 세계에서 활발하게 전개되고 있다. 유럽연합(EU)은 인공지능 기술이 시민의 안전과 권리를\\n보호하는 방식으로 사용되는 것을 보장할 수 있도록 인공지능의 규제에 초점을 맞춘 「인공지능법\\n(Artificial Intelligence Act)」을 제정하였다. 미국은 AI산업의 선두주자로서 「미국인공지능진흥법\\n(Advancing American AI Act)」 제정, 바이든 행정부의 행정명령 등을 통해 인공지능 주도권을'),\n",
       "  1.0354219675064087)]"
      ]
     },
     "execution_count": 42,
     "metadata": {},
     "output_type": "execute_result"
    }
   ],
   "source": [
    "# 방법2\n",
    "input = \"인공지능과 관련된 해외의 입법 사례를 정리해줘\"\n",
    "vectorstore.similarity_search_with_score(input, k=3)"
   ]
  },
  {
   "cell_type": "code",
   "execution_count": 2,
   "id": "d1db9072",
   "metadata": {},
   "outputs": [
    {
     "data": {
      "text/plain": [
       "[Document(metadata={'CreationDate': \"D:20240711071402Z00'00'\", 'Creator': 'Adobe InDesign 15.1 (Macintosh)', 'ModDate': \"D:20240711071402Z00'00'\", 'Producer': 'Mac OS X 10.13.6 Quartz PDFContext', 'file_path': 'data/법제소식_7월호_05_최신입법동향.pdf', 'page': 1, 'source': 'data/법제소식_7월호_05_최신입법동향.pdf', 'total_pages': 9}, page_content='Legislation Newsletter\\n최근 입법 트렌드\\n■ 해외입법사례 ● 그리고 2023년 10월 30일, 바이든 정부는 「안전하고 보안이 보장되며 신뢰할 수 있는 인공지능의\\n개발과 사용(Safe, Secure, and Trustworthy Development and Use of Artificial Intelligence)에\\n● 최근 미국과 유럽연합(EU) 등 세계 각국은 AI와 관련된 글로벌 표준에 자국의 입장을 더 많이 반영 관한 행정명령(제14110호)7)」을 발령하였는데, 이 행정명령에서는 인공지능이 엄청난 잠재력과'),\n",
       " Document(metadata={'CreationDate': \"D:20240711071402Z00'00'\", 'Creator': 'Adobe InDesign 15.1 (Macintosh)', 'ModDate': \"D:20240711071402Z00'00'\", 'Producer': 'Mac OS X 10.13.6 Quartz PDFContext', 'file_path': 'data/법제소식_7월호_05_최신입법동향.pdf', 'page': 3, 'source': 'data/법제소식_7월호_05_최신입법동향.pdf', 'total_pages': 9}, page_content='Legislation Newsletter\\n최근 입법 트렌드\\n구분 인터넷 또는 CCTV 영상에서 얼굴 이미지를 무작위적인 방식으로 스크래핑하여 얼굴인식 데이터 - 입학 결정이나 할당에 사용되는 AI시스템\\n안면 인식 데이터베이스\\n베이스를 생성하거나 확장하는 AI시스템은 금지 - 학습 결과 평가에 사용되는 AI시스템\\n교육 및 직업훈련\\n- 교육 수준 평가 목적으로 사용되는 AI시스템'),\n",
       " Document(metadata={'CreationDate': \"D:20240711071402Z00'00'\", 'Creator': 'Adobe InDesign 15.1 (Macintosh)', 'ModDate': \"D:20240711071402Z00'00'\", 'Producer': 'Mac OS X 10.13.6 Quartz PDFContext', 'file_path': 'data/법제소식_7월호_05_최신입법동향.pdf', 'page': 0, 'source': 'data/법제소식_7월호_05_최신입법동향.pdf', 'total_pages': 9}, page_content='● 이러한 인공지능 기술의 급격한 발달에 대응하여 인공지능을 규범적으로 규율하려는 움직임이\\n전 세계에서 활발하게 전개되고 있다. 유럽연합(EU)은 인공지능 기술이 시민의 안전과 권리를\\n보호하는 방식으로 사용되는 것을 보장할 수 있도록 인공지능의 규제에 초점을 맞춘 「인공지능법\\n(Artificial Intelligence Act)」을 제정하였다. 미국은 AI산업의 선두주자로서 「미국인공지능진흥법\\n(Advancing American AI Act)」 제정, 바이든 행정부의 행정명령 등을 통해 인공지능 주도권을')]"
      ]
     },
     "execution_count": 2,
     "metadata": {},
     "output_type": "execute_result"
    }
   ],
   "source": [
    "# 방법3\n",
    "retriever = vectorstore.as_retriever(search_type=\"similarity\", search_kwargs={\"k\": 3})\n",
    "\n",
    "input = \"인공지능과 관련된 해외의 입법 사례를 정리해줘\"\n",
    "docs = retriever.invoke(input)\n",
    "docs"
   ]
  },
  {
   "cell_type": "code",
   "execution_count": 5,
   "id": "1897cf61",
   "metadata": {},
   "outputs": [
    {
     "data": {
      "text/plain": [
       "[Document(metadata={'CreationDate': \"D:20240711071402Z00'00'\", 'Creator': 'Adobe InDesign 15.1 (Macintosh)', 'ModDate': \"D:20240711071402Z00'00'\", 'Producer': 'Mac OS X 10.13.6 Quartz PDFContext', 'file_path': 'data/법제소식_7월호_05_최신입법동향.pdf', 'page': 1, 'source': 'data/법제소식_7월호_05_최신입법동향.pdf', 'total_pages': 9}, page_content='Legislation Newsletter\\n최근 입법 트렌드\\n■ 해외입법사례 ● 그리고 2023년 10월 30일, 바이든 정부는 「안전하고 보안이 보장되며 신뢰할 수 있는 인공지능의\\n개발과 사용(Safe, Secure, and Trustworthy Development and Use of Artificial Intelligence)에\\n● 최근 미국과 유럽연합(EU) 등 세계 각국은 AI와 관련된 글로벌 표준에 자국의 입장을 더 많이 반영 관한 행정명령(제14110호)7)」을 발령하였는데, 이 행정명령에서는 인공지능이 엄청난 잠재력과'),\n",
       " Document(metadata={'CreationDate': \"D:20240711071402Z00'00'\", 'Creator': 'Adobe InDesign 15.1 (Macintosh)', 'ModDate': \"D:20240711071402Z00'00'\", 'Producer': 'Mac OS X 10.13.6 Quartz PDFContext', 'file_path': 'data/법제소식_7월호_05_최신입법동향.pdf', 'page': 6, 'source': 'data/법제소식_7월호_05_최신입법동향.pdf', 'total_pages': 9}, page_content='인공지능책임법안 고위험 인공지능에 관한 기본계획 수립, 인공지능 분야에 전문성을 갖춘 위원회의 설치·운영, 국가 및 지방자치단체는 인공지능산업의 진흥과 인공지능 개발·활용의 경쟁력 강화를 위해 인공지능 및\\n(황희 의원 대표발의, 2023. 2. 28.) 인공지능에 관한 분쟁조정을 위한 인공지능분쟁조정위원회 운영 인공지능 집적단지 인공지능기술의 연구·개발을 수행하는 기업, 기관이나 단체의 기능적·물리적·지역적 집적화를 추진할'),\n",
       " Document(metadata={'CreationDate': \"D:20240711071402Z00'00'\", 'Creator': 'Adobe InDesign 15.1 (Macintosh)', 'ModDate': \"D:20240711071402Z00'00'\", 'Producer': 'Mac OS X 10.13.6 Quartz PDFContext', 'file_path': 'data/법제소식_7월호_05_최신입법동향.pdf', 'page': 3, 'source': 'data/법제소식_7월호_05_최신입법동향.pdf', 'total_pages': 9}, page_content='【EU 인공지능법 부속서 III에 따른 고위험 AI시스템】\\n사법 및 민주적 절차 관리 - 투표에 영향을 미치기 위해 사용하는 AI시스템(개인이 직접 노출되지 않는 결과물에 대한 시스템은\\n제외)\\n구분 상세내용\\nEU 또는 국내법에 따라 사용이 허용되는 한도 내에서만 사용 가능\\n- 구체적으로는 고위험 시스템 출시 전 준수사항으로 위험성 관리체계 등 7가지 특정요건12)을\\n- 원격 생체인식 시스템(특정인 확인이 유일한 목적인 경우 제외)\\n생체인식')]"
      ]
     },
     "execution_count": 5,
     "metadata": {},
     "output_type": "execute_result"
    }
   ],
   "source": [
    "# Maximal Marginal Relevance\n",
    "retriever = vectorstore.as_retriever(search_type=\"mmr\", search_kwargs={\"k\": 3})\n",
    "\n",
    "input = \"인공지능과 관련된 해외의 입법 사례를 정리해줘\"\n",
    "docs = retriever.invoke(input)\n",
    "docs"
   ]
  },
  {
   "cell_type": "code",
   "execution_count": 40,
   "id": "fb43f56d",
   "metadata": {},
   "outputs": [
    {
     "data": {
      "text/plain": [
       "'Legislation Newsletter\\n최근 입법 트렌드\\n【21대 국회에서 발의된 인공지능 관련 9건 법률안 주요내용】\\n인공지능의 공정성·투명성·책임성 확보를 위한 시책 수립·시행 지원 및 관련 연구 등을 효율적으로 수행\\n신뢰성 전문위원회\\n법률명(대표발의 의원, 발의일) 주요내용 하기 위해 위원회에 인공지능 신뢰성 전문위원회를 둔다.'"
      ]
     },
     "execution_count": 40,
     "metadata": {},
     "output_type": "execute_result"
    }
   ],
   "source": [
    "docs[0].page_content"
   ]
  },
  {
   "cell_type": "markdown",
   "id": "3eb9abca",
   "metadata": {},
   "source": [
    "## Final Answer"
   ]
  },
  {
   "cell_type": "code",
   "execution_count": 6,
   "id": "dff805b9",
   "metadata": {},
   "outputs": [],
   "source": [
    "from langchain_openai import ChatOpenAI\n",
    "from langchain_core.prompts import PromptTemplate\n",
    "\n",
    "llm_4o = ChatOpenAI(model=\"gpt-4o\", temperature=0)\n",
    "\n",
    "model_prompt = PromptTemplate(\n",
    "    template=\"\"\"\n",
    "        You are an expert who answers the query based on the retrieved data.\n",
    "        Answer in Korean.\n",
    "        <Question>: {query}\n",
    "        <Retrieved data>: {retrieved_data}\n",
    "    \"\"\",\n",
    "    input_variables=[\"query\", \"retrieved_data\"],\n",
    ")\n",
    "\n",
    "def llm_model(input):\n",
    "    chain = model_prompt | llm_4o \n",
    "    answer = chain.invoke({\"query\": input, \"retrieved_data\": docs})\n",
    "    return answer\n"
   ]
  },
  {
   "cell_type": "code",
   "execution_count": 7,
   "id": "716a49fc",
   "metadata": {},
   "outputs": [
    {
     "data": {
      "text/plain": [
       "AIMessage(content='인공지능과 관련된 해외의 입법 사례로는 미국과 유럽연합(EU)의 사례가 있습니다.\\n\\n1. **미국**: 2023년 10월 30일, 바이든 정부는 \"안전하고 보안이 보장되며 신뢰할 수 있는 인공지능의 개발과 사용\"에 관한 행정명령(제14110호)을 발령하였습니다. 이 행정명령은 인공지능의 잠재력을 인정하면서도 안전하고 신뢰할 수 있는 개발과 사용을 강조하고 있습니다.\\n\\n2. **유럽연합(EU)**: EU는 인공지능법 부속서 III에 따라 고위험 AI 시스템을 규제하고 있습니다. 예를 들어, 투표에 영향을 미치기 위해 사용하는 AI 시스템은 특정 요건을 충족해야 하며, 원격 생체인식 시스템은 특정 목적에 한해 사용이 허용됩니다. 이러한 고위험 시스템은 출시 전에 위험성 관리체계 등 7가지 특정 요건을 준수해야 합니다.\\n\\n이러한 입법 사례들은 인공지능의 안전한 사용과 개발을 촉진하기 위한 국제적인 노력의 일환으로 볼 수 있습니다.', response_metadata={'token_usage': {'completion_tokens': 257, 'prompt_tokens': 904, 'total_tokens': 1161, 'completion_tokens_details': {'accepted_prediction_tokens': 0, 'audio_tokens': 0, 'reasoning_tokens': 0, 'rejected_prediction_tokens': 0}, 'prompt_tokens_details': {'audio_tokens': 0, 'cached_tokens': 0}}, 'model_name': 'gpt-4o-2024-08-06', 'system_fingerprint': 'fp_76544d79cb', 'finish_reason': 'stop', 'logprobs': None}, id='run-e9233ab1-a964-4076-9d80-32f7855a709e-0', usage_metadata={'input_tokens': 904, 'output_tokens': 257, 'total_tokens': 1161})"
      ]
     },
     "execution_count": 7,
     "metadata": {},
     "output_type": "execute_result"
    }
   ],
   "source": [
    "llm_model(\"인공지능과 관련된 해외의 입법 사례를 정리해줘\")"
   ]
  },
  {
   "cell_type": "code",
   "execution_count": 48,
   "id": "07698201",
   "metadata": {},
   "outputs": [],
   "source": [
    "# 하나의 함수로 검색부터 답변까지 \n",
    "\n",
    "def chatbot(input):\n",
    "    retriever = vectorstore.as_retriever()\n",
    "    docs = retriever.invoke(input)\n",
    "    reference = [docs[i].page_content for i in range(len(docs))]\n",
    "    \n",
    "    chain = model_prompt | llm_4o \n",
    "    answer = chain.invoke({\"query\": input, \"retrieved_data\": reference})\n",
    "    return print(\"<<Reference docs>>\\n\", reference, \"\\n\\n<<Answer>>\\n\", answer.content)"
   ]
  },
  {
   "cell_type": "code",
   "execution_count": 49,
   "id": "aed8b875",
   "metadata": {},
   "outputs": [
    {
     "name": "stdout",
     "output_type": "stream",
     "text": [
      "<<Reference docs>>\n",
      " ['Legislation Newsletter\\n최근 입법 트렌드\\n■ 해외입법사례 ● 그리고 2023년 10월 30일, 바이든 정부는 「안전하고 보안이 보장되며 신뢰할 수 있는 인공지능의\\n개발과 사용(Safe, Secure, and Trustworthy Development and Use of Artificial Intelligence)에\\n● 최근 미국과 유럽연합(EU) 등 세계 각국은 AI와 관련된 글로벌 표준에 자국의 입장을 더 많이 반영 관한 행정명령(제14110호)7)」을 발령하였는데, 이 행정명령에서는 인공지능이 엄청난 잠재력과', 'Legislation Newsletter\\n최근 입법 트렌드\\n구분 인터넷 또는 CCTV 영상에서 얼굴 이미지를 무작위적인 방식으로 스크래핑하여 얼굴인식 데이터 - 입학 결정이나 할당에 사용되는 AI시스템\\n안면 인식 데이터베이스\\n베이스를 생성하거나 확장하는 AI시스템은 금지 - 학습 결과 평가에 사용되는 AI시스템\\n교육 및 직업훈련\\n- 교육 수준 평가 목적으로 사용되는 AI시스템', '● 이러한 인공지능 기술의 급격한 발달에 대응하여 인공지능을 규범적으로 규율하려는 움직임이\\n전 세계에서 활발하게 전개되고 있다. 유럽연합(EU)은 인공지능 기술이 시민의 안전과 권리를\\n보호하는 방식으로 사용되는 것을 보장할 수 있도록 인공지능의 규제에 초점을 맞춘 「인공지능법\\n(Artificial Intelligence Act)」을 제정하였다. 미국은 AI산업의 선두주자로서 「미국인공지능진흥법\\n(Advancing American AI Act)」 제정, 바이든 행정부의 행정명령 등을 통해 인공지능 주도권을', 'Legislation Newsletter\\n최신 입법 트렌드\\n■ 머리말\\n인공지능(AI) 관련 국내외 법제 동향\\n● 2022년 말 챗GPT 등장 이후 생성형 AI1)기술 발전이 급격하게 진행되고 있고, 리걸테크, AI챗봇,\\nAI헬스케어, AI에듀테크 등 인공지능 기술에 기반한 다양한 서비스들이 하나 둘 등장하며 인공\\n지능이 우리의 삶에 깊이 스며들고 있다. 언론에서는 인공지능에 기반한 새로운 서비스들이 연일'] \n",
      "\n",
      "<<Answer>>\n",
      " 인공지능과 관련된 해외의 입법 사례로는 미국과 유럽연합(EU)의 노력을 들 수 있습니다. 미국에서는 바이든 행정부가 2023년 10월 30일에 「안전하고 보안이 보장되며 신뢰할 수 있는 인공지능의 개발과 사용」에 관한 행정명령(제14110호)을 발령하였습니다. 이 행정명령은 인공지능의 잠재력을 인식하고, 안전하고 신뢰할 수 있는 방식으로 개발 및 사용되도록 하는 것을 목표로 하고 있습니다.\n",
      "\n",
      "유럽연합(EU)에서는 인공지능 기술이 시민의 안전과 권리를 보호하는 방식으로 사용되도록 보장하기 위해 「인공지능법(Artificial Intelligence Act)」을 제정하였습니다. 이 법은 인공지능의 규제에 초점을 맞추고 있으며, 인공지능 기술의 급격한 발달에 대응하여 규범적으로 규율하려는 움직임의 일환입니다.\n",
      "\n",
      "이 외에도, 미국은 「미국인공지능진흥법(Advancing American AI Act)」을 제정하여 AI 산업의 선두주자로서의 주도권을 유지하려는 노력을 기울이고 있습니다. 이러한 입법 사례들은 인공지능 기술이 사회에 미치는 영향을 고려하여 안전하고 윤리적인 사용을 촉진하기 위한 국제적인 움직임을 보여줍니다.\n"
     ]
    }
   ],
   "source": [
    "input = \"인공지능과 관련된 해외의 입법 사례를 정리해줘\"\n",
    "\n",
    "chatbot(input)"
   ]
  },
  {
   "cell_type": "code",
   "execution_count": 6,
   "id": "68a415a8",
   "metadata": {},
   "outputs": [
    {
     "data": {
      "text/plain": [
       "'0.5.23'"
      ]
     },
     "execution_count": 6,
     "metadata": {},
     "output_type": "execute_result"
    }
   ],
   "source": [
    "chromadb.__version__"
   ]
  },
  {
   "cell_type": "code",
   "execution_count": 13,
   "id": "251aa4d7",
   "metadata": {},
   "outputs": [],
   "source": [
    "import os\n",
    "from dotenv import load_dotenv\n",
    "import chromadb\n",
    "from langchain_community.vectorstores import Chroma\n",
    "from langchain_openai import OpenAIEmbeddings\n",
    "from langchain_openai import ChatOpenAI\n",
    "from langchain_core.prompts import PromptTemplate, ChatPromptTemplate\n",
    "from langchain_core.prompts import ChatPromptTemplate, MessagesPlaceholder\n",
    "from langchain_community.chat_message_histories import ChatMessageHistory\n",
    "from langchain_core.runnables.history import RunnableWithMessageHistory\n",
    "import chainlit as cl\n",
    "\n",
    "load_dotenv()\n",
    "\n",
    "################# Retriever ######################\n",
    "\n",
    "client = chromadb.PersistentClient('chroma/')\n",
    "embedding = OpenAIEmbeddings(model='text-embedding-3-large')  \n",
    "vectorstore = Chroma(client=client, collection_name=\"dataset\", embedding_function=embedding)\n",
    "\n",
    "def retriever(input):\n",
    "    retriever = vectorstore.as_retriever()\n",
    "    docs = retriever.invoke(input)\n",
    "    reference = [docs[i].page_content for i in range(len(docs))]\n",
    "    return reference\n",
    "\n",
    "################# LLM ######################\n",
    "\n",
    "store = {}\n",
    "\n",
    "def get_session_history(session_ids):\n",
    "    if session_ids not in store: \n",
    "        store[session_ids] = ChatMessageHistory()\n",
    "    return store[session_ids]  \n",
    "\n",
    "\n",
    "llm_4o = ChatOpenAI(model=\"gpt-4o\", temperature=0)\n",
    "\n",
    "model_prompt = ChatPromptTemplate.from_messages(\n",
    "    [\n",
    "        (\n",
    "            \"system\",\n",
    "            \"You are an expert who answers the query based on the retrieved data.\"\n",
    "            \"Answer in Korean.\",\n",
    "        ),\n",
    "        # 대화기록용 key 인 chat_history 는 가급적 변경 없이 사용하세요!\n",
    "        MessagesPlaceholder(variable_name=\"chat_history\"),\n",
    "        (\"human\", \"#Question:\\n{question} #Retrieved data: \\n{retrieved_data}\"), \n",
    "    ]\n",
    ")\n",
    "\n",
    "def chatbot(input):\n",
    "    references = retriever(input)\n",
    "    chain = model_prompt | llm_4o\n",
    "    \n",
    "    rag_with_history = RunnableWithMessageHistory(\n",
    "        chain,\n",
    "        get_session_history,  # 세션 기록을 가져오는 함수\n",
    "        input_messages_key=\"question\",  # 사용자의 질문이 템플릿 변수에 들어갈 key\n",
    "        history_messages_key=\"chat_history\",  # 기록 메시지의 키\n",
    "    )\n",
    "    \n",
    "    answer = rag_with_history.invoke({\"question\": input, \"retrieved_data\": references}, config={\"configurable\": {\"session_id\": \"tmp\"}},)\n",
    "    return answer.content"
   ]
  },
  {
   "cell_type": "code",
   "execution_count": 14,
   "id": "82689c8c",
   "metadata": {},
   "outputs": [
    {
     "name": "stdout",
     "output_type": "stream",
     "text": [
      "2025-05-21 20:36:42 - HTTP Request: POST https://api.openai.com/v1/embeddings \"HTTP/1.1 200 OK\"\n",
      "2025-05-21 20:36:47 - HTTP Request: POST https://api.openai.com/v1/chat/completions \"HTTP/1.1 200 OK\"\n"
     ]
    },
    {
     "data": {
      "text/plain": [
       "'안녕하세요! 고위험 AI 시스템과 관련된 EU 인공지능법에 대한 정보를 찾으시는 것 같습니다. EU 인공지능법에 따르면, 고위험 AI 시스템의 제공자는 여러 가지 의무를 준수해야 합니다. 예를 들어, 시스템의 적합성을 입증하기 위한 기술 문서 작성, 적합성 선언, 그리고 관할 당국에 시스템 출시를 알리는 등의 절차가 포함됩니다. 또한, 시스템 사용으로 인한 위험성을 인식했을 때 즉시 통지하고, 중대한 사건 발생 시 관련 기관에 신고해야 합니다. 이러한 규정은 AI 시스템의 안전성과 신뢰성을 보장하기 위한 것입니다. 추가적인 정보나 구체적인 질문이 있으시면 말씀해 주세요!'"
      ]
     },
     "execution_count": 14,
     "metadata": {},
     "output_type": "execute_result"
    }
   ],
   "source": [
    "chatbot('hi')"
   ]
  },
  {
   "cell_type": "code",
   "execution_count": null,
   "id": "00758ea5",
   "metadata": {},
   "outputs": [],
   "source": []
  }
 ],
 "metadata": {
  "kernelspec": {
   "display_name": "env",
   "language": "python",
   "name": "python3"
  },
  "language_info": {
   "codemirror_mode": {
    "name": "ipython",
    "version": 3
   },
   "file_extension": ".py",
   "mimetype": "text/x-python",
   "name": "python",
   "nbconvert_exporter": "python",
   "pygments_lexer": "ipython3",
   "version": "3.12.7"
  }
 },
 "nbformat": 4,
 "nbformat_minor": 5
}
